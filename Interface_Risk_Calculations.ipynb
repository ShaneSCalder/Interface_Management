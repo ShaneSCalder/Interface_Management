{
 "cells": [
  {
   "cell_type": "markdown",
   "metadata": {},
   "source": [
    "# Interface Risk Calculations "
   ]
  },
  {
   "cell_type": "markdown",
   "metadata": {},
   "source": [
    "### Number of Communication Channels\n",
    "\n",
    "<br>\n",
    "<br>\n",
    "\n",
    "$$ Number-of-communication-channels = \\frac {N * (N-1)}{2} $$\n",
    "\n"
   ]
  },
  {
   "cell_type": "code",
   "execution_count": 60,
   "metadata": {},
   "outputs": [
    {
     "data": {
      "text/plain": [
       "45.0"
      ]
     },
     "execution_count": 60,
     "metadata": {},
     "output_type": "execute_result"
    }
   ],
   "source": [
    "# Calculate N is the total number of project participants\n",
    "#I.E. Client team, EPC, Contractor directly involved with specific comunication   \n",
    "\n",
    "# place total number here \n",
    "N = 10\n",
    "\n",
    "Channels = (N * (N - 1) )/ 2\n",
    "Channels"
   ]
  },
  {
   "cell_type": "markdown",
   "metadata": {},
   "source": [
    "### Communication Effectiveness \n",
    "\n",
    "<br>\n",
    "<br>\n",
    "\n",
    "$$ Communication-Effectiveness =  \\frac {(F1 + F2 + F3 .....)  } {Number-of-Controls(F)} * 0.5 $$\n",
    "\n",
    "- Number of controls are activities taken to ensure communication\n",
    "- 0.5 is the factor of unseen or unknow impact to communications that is + "
   ]
  },
  {
   "cell_type": "code",
   "execution_count": 61,
   "metadata": {},
   "outputs": [
    {
     "data": {
      "text/plain": [
       "0.725"
      ]
     },
     "execution_count": 61,
     "metadata": {},
     "output_type": "execute_result"
    }
   ],
   "source": [
    "# to compute CE \n",
    "\n",
    "F = 3\n",
    "# Project meetings with active participation \n",
    "F1 = 0.5\n",
    "# Communication email that is openned \n",
    "F2 = 0.1\n",
    "# Phone call with active Participation \n",
    "F3 = 0.5\n",
    "\n",
    "CE = 1 - (((F1 + F2 + F3) / (F - 1)) * .5)\n",
    "CE \n",
    "\n",
    "# Communication Effectiveness"
   ]
  },
  {
   "cell_type": "markdown",
   "metadata": {},
   "source": [
    "### Communication Impact \n",
    "\n",
    "$$ Communication-Impact = \\frac { (Channels * (1 - CE))} {Channels}$$\n",
    "\n",
    "- Communication Impact is the probability that your communication will fail "
   ]
  },
  {
   "cell_type": "code",
   "execution_count": 52,
   "metadata": {},
   "outputs": [],
   "source": [
    "# to Compute CI \n",
    "\n",
    "CI = ((Channels * (1 - CE)) / Channels)"
   ]
  },
  {
   "cell_type": "code",
   "execution_count": 53,
   "metadata": {},
   "outputs": [
    {
     "data": {
      "text/plain": [
       "0.275"
      ]
     },
     "execution_count": 53,
     "metadata": {},
     "output_type": "execute_result"
    }
   ],
   "source": [
    "# Likelyhood of impact occurring \n",
    "CI"
   ]
  },
  {
   "cell_type": "markdown",
   "metadata": {},
   "source": [
    "### Communication Impact Costs \n",
    "\n",
    "- Direct costs, Labour, equipment, and materials \n",
    "- Indirect costs, insurance, administration costs, etc. \n",
    "- Impact to business i.e. completion delay or inservice delay "
   ]
  },
  {
   "cell_type": "code",
   "execution_count": 54,
   "metadata": {},
   "outputs": [],
   "source": [
    "# Direct Costs \n",
    "package_cost = 750000.00\n",
    "# Should be a time value day, week, month etc.\n",
    "#for this example in weeks (time needed to order item)\n",
    "schedule_delay = 4 \n",
    "cost_of_delay = 7500\n",
    "schedule_delay_cost = schedule_delay * cost_of_delay\n",
    "# in this case we will use I week of schedule delay due to critical path 500 k a day\n",
    "#Impact of 1 week \n",
    "business_impact = 3500000\n",
    "# cost of change reason for cummunication\n",
    "#For this example we will use a valve in the origional package was incorrect\n",
    "change_order = 55000.00  "
   ]
  },
  {
   "cell_type": "code",
   "execution_count": 55,
   "metadata": {},
   "outputs": [
    {
     "data": {
      "text/plain": [
       "3530000"
      ]
     },
     "execution_count": 55,
     "metadata": {},
     "output_type": "execute_result"
    }
   ],
   "source": [
    "# Lets look at the postenial risk costs\n",
    "potential_risk_costs = schedule_delay_cost + business_impact \n",
    "potential_risk_costs"
   ]
  },
  {
   "cell_type": "code",
   "execution_count": 56,
   "metadata": {},
   "outputs": [
    {
     "data": {
      "text/plain": [
       "970750.0000000001"
      ]
     },
     "execution_count": 56,
     "metadata": {},
     "output_type": "execute_result"
    }
   ],
   "source": [
    "# Expected impact and budgetted risk for project \n",
    "finacial_impact = CI * potential_risk_costs\n",
    "finacial_impact"
   ]
  },
  {
   "cell_type": "code",
   "execution_count": 58,
   "metadata": {},
   "outputs": [
    {
     "data": {
      "text/plain": [
       "962500.0000000001"
      ]
     },
     "execution_count": 58,
     "metadata": {},
     "output_type": "execute_result"
    }
   ],
   "source": [
    "# Organization budgeted risk \n",
    "organization_risk_impact = business_impact * CI\n",
    "organization_risk_impact"
   ]
  },
  {
   "cell_type": "code",
   "execution_count": 59,
   "metadata": {},
   "outputs": [
    {
     "data": {
      "text/plain": [
       "8250.0"
      ]
     },
     "execution_count": 59,
     "metadata": {},
     "output_type": "execute_result"
    }
   ],
   "source": [
    "project_risk_impact = schedule_delay_cost * CI\n",
    "project_risk_impact"
   ]
  },
  {
   "cell_type": "markdown",
   "metadata": {},
   "source": [
    "## Risk Mitigation Plan \n",
    "\n",
    "### Project Mitigation Plan (EPC)\n",
    "#### Additional risks\n",
    "- The project might classify this as critical\n",
    "- Not identified as a risk  \n",
    "- Change order not approved\n",
    "- Procurement does not order correct part, not informed of change order \n",
    "- Impact to schedule critical path unknown \n",
    "\n",
    "#### Mitigation Strategy Recomendations \n",
    "- Increase risk contingency by 8,250.00 \n",
    "- Track change order through interface group (interface item)\n",
    "- Track communication and order being placed by procurement \n",
    "- Track updates to drawings \n",
    "- Increase budget by 55,000.00\n",
    "- Follow up and document each item\n",
    "- Update WBS, scope documents, SBS, and CBS to include change order\n",
    "- Escalate Change order approval if required \n",
    "\n",
    "#### Mitigation Strategy for Business Unit / Client \n",
    "- Increase Financial Reserve fund by 962,500.00 \n",
    "- Track change order approval (interface item)\n",
    "- Track drawing updates\n"
   ]
  },
  {
   "cell_type": "code",
   "execution_count": null,
   "metadata": {},
   "outputs": [],
   "source": []
  }
 ],
 "metadata": {
  "kernelspec": {
   "display_name": "Python 3",
   "language": "python",
   "name": "python3"
  },
  "language_info": {
   "codemirror_mode": {
    "name": "ipython",
    "version": 3
   },
   "file_extension": ".py",
   "mimetype": "text/x-python",
   "name": "python",
   "nbconvert_exporter": "python",
   "pygments_lexer": "ipython3",
   "version": "3.7.3"
  }
 },
 "nbformat": 4,
 "nbformat_minor": 2
}
